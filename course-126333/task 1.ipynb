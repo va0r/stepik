{
 "nbformat": 4,
 "nbformat_minor": 0,
 "metadata": {
  "colab": {
   "provenance": [],
   "mount_file_id": "1-tkPJDK50FqLI7ooERgRPToeKeJ96SFw",
   "authorship_tag": "ABX9TyOlmAzSVI8y/C2jlvkpIaPy"
  },
  "kernelspec": {
   "name": "python3",
   "display_name": "Python 3"
  },
  "language_info": {
   "name": "python"
  }
 },
 "cells": [
  {
   "cell_type": "markdown",
   "source": [
    "# Упражнение номер 1 по анализу данных\n",
    "\n",
    "Путь к файлу с данными\n",
    "\n",
    "/content/drive/MyDrive/Colab Notebooks/students.csv\n",
    "\n"
   ],
   "metadata": {
    "id": "cdwwocvgmEnf"
   }
  },
  {
   "cell_type": "code",
   "source": [
    "# from google.colab import drive\n",
    "# drive.mount('/content/drive')"
   ],
   "metadata": {
    "id": "t72K7_PbTGq9",
    "colab": {
     "base_uri": "https://localhost:8080/"
    },
    "executionInfo": {
     "status": "ok",
     "timestamp": 1665941920993,
     "user_tz": -360,
     "elapsed": 18162,
     "user": {
      "displayName": "Артём Шевляков",
      "userId": "05637357451040981141"
     }
    },
    "outputId": "4d670f1f-9609-4a86-8b58-19a1aaea67be"
   },
   "execution_count": 1,
   "outputs": []
  },
  {
   "cell_type": "markdown",
   "source": [
    "Это подключение библиотеки рабоы с таблицами (1й способ комментирования кода)"
   ],
   "metadata": {
    "id": "bfizKAmjroo4"
   }
  },
  {
   "cell_type": "code",
   "source": [
    "import pandas as pd\n",
    "#Это подключение библиотеки рабоы с таблицами (2й способ комментирования кода)"
   ],
   "metadata": {
    "id": "ailNdIGipAWZ"
   },
   "execution_count": 2,
   "outputs": []
  },
  {
   "cell_type": "code",
   "source": [
    "df=pd.read_csv('students.csv',delimiter=',')"
   ],
   "metadata": {
    "id": "mQNkhFZTsLhZ"
   },
   "execution_count": 3,
   "outputs": []
  },
  {
   "cell_type": "code",
   "source": [
    "df.tail(19)"
   ],
   "metadata": {
    "colab": {
     "base_uri": "https://localhost:8080/",
     "height": 1000
    },
    "id": "25LWHZK_OsYT",
    "executionInfo": {
     "status": "ok",
     "timestamp": 1665948027264,
     "user_tz": -360,
     "elapsed": 358,
     "user": {
      "displayName": "Артём Шевляков",
      "userId": "05637357451040981141"
     }
    },
    "outputId": "f35169d8-0c41-4b7b-9bda-d038bc8b9cbb"
   },
   "execution_count": 4,
   "outputs": [
    {
     "data": {
      "text/plain": "     Age  Growth  Shoe size  Course number  Year of birth  Friend number  \\\n167   21     168         40              4           2001            100   \n168   22     161         38              7           2000             50   \n169   21     160         37              4           2001            221   \n170   22     168         38              4           2000             49   \n171   20     162         37              2           2002             70   \n172   21     164         37              4           2000            260   \n173   29     176         39              7           1992            233   \n174   20     158         37              3           2001             21   \n175   18     176         38              2           2003            183   \n176   21     162         38              7           2000            150   \n177   23     155         36              6           1999             90   \n178   21     170         39              4           2001            123   \n179   20     176         42              3           2001             80   \n180   21     167         36              4           2000            120   \n181   23     168         39              7           1999            228   \n182   19     169         38              1           2003              0   \n183   18     161         37              2           2003             11   \n184   19     169         41              1           2003             22   \n185   18     164         39              2           2003            500   \n\n     Russian rating  Maths rating  Physics rating  Computer science rating  \\\n167              91            45               0                        0   \n168              91            74               0                        0   \n169              94            76               0                        0   \n170             100            56               0                        0   \n171              82             0               0                        0   \n172              86             0               0                        0   \n173              72            69               0                        0   \n174              91            56               0                        0   \n175              90             0               0                        0   \n176              89             0               0                        0   \n177              91            51               0                        0   \n178              76             0               0                        0   \n179              85             0               0                        0   \n180              98            56               0                        0   \n181              93            68               0                        0   \n182              73             5               0                        0   \n183              98             0               0                        0   \n184              82            86               0                        0   \n185              94             5               0                        0   \n\n     ...  Social network duration min  Chocolate  City population  \\\n167  ...                          200       Натс              2.6   \n168  ...                         1800       Натс         850000.0   \n169  ...                            0    Сникерс         800000.0   \n170  ...                          240     КитКат         500000.0   \n171  ...                          540      Твикс            900.0   \n172  ...                           60  Милки Вей         900000.0   \n173  ...                           60    Сникерс         850000.0   \n174  ...                          120  Милки Вей         700000.0   \n175  ...                          240       Марс         854627.0   \n176  ...                          300      Твикс         800000.0   \n177  ...                          100     Баунти         900000.0   \n178  ...                          360    Сникерс         800000.0   \n179  ...                          120    Сникерс         700000.0   \n180  ...                          120      Твикс        8000000.0   \n181  ...                          300      Твикс         770000.0   \n182  ...                           75       M&Ms        1250000.0   \n183  ...                          460      Твикс        1000000.0   \n184  ...                          540      Твикс         850000.0   \n185  ...                          400      Твикс         800000.0   \n\n                                   Strange people  \\\n167                                 Экономический   \n168                           Математический и ИТ   \n169                                Педагогический   \n170                                Педагогический   \n171                                        СоцГум   \n172                           Математический и ИТ   \n173                           Математический и ИТ   \n174                           Математический и ИТ   \n175  Естественный (биология-химия-физика-технари)   \n176                                        СоцГум   \n177                           Математический и ИТ   \n178                                        СоцГум   \n179                                        СоцГум   \n180                                Педагогический   \n181  Естественный (биология-химия-физика-технари)   \n182                                Педагогический   \n183  Естественный (биология-химия-физика-технари)   \n184  Естественный (биология-химия-физика-технари)   \n185                                   Юридический   \n\n                                    Your insitute          Brother-sister  \\\n167                                        СоцГум  нет ни брата ни сестры   \n168                                        Другое               есть брат   \n169                                 Экономический  нет ни брата ни сестры   \n170                                 Экономический  нет ни брата ни сестры   \n171                                   Юридический             есть сестра   \n172                                        СоцГум               есть брат   \n173                                 Экономический             есть сестра   \n174  Естественный (биология-химия-физика-технари)  нет ни брата ни сестры   \n175                                        СоцГум             есть сестра   \n176                                        СоцГум    есть и брат и сестра   \n177                           Математический и ИТ             есть сестра   \n178                                   Юридический    есть и брат и сестра   \n179                                   Юридический             есть сестра   \n180                                Педагогический             есть сестра   \n181  Естественный (биология-химия-физика-технари)  нет ни брата ни сестры   \n182                                        СоцГум             есть сестра   \n183                                        Другое    есть и брат и сестра   \n184                           Математический и ИТ               есть брат   \n185                                        СоцГум  нет ни брата ни сестры   \n\n                          Plane seat  MIddle and index finger  \\\n167                        У прохода                        6   \n168  У окна (пардон: у иллюминатора)                        5   \n169  У окна (пардон: у иллюминатора)                        9   \n170  У окна (пардон: у иллюминатора)                       10   \n171                        У прохода                        4   \n172  У окна (пардон: у иллюминатора)                       10   \n173  У окна (пардон: у иллюминатора)                        7   \n174                        У прохода                        9   \n175  У окна (пардон: у иллюминатора)                       16   \n176  У окна (пардон: у иллюминатора)                       13   \n177  У окна (пардон: у иллюминатора)                        5   \n178  У окна (пардон: у иллюминатора)                        3   \n179  У окна (пардон: у иллюминатора)                        5   \n180  У окна (пардон: у иллюминатора)                       10   \n181  У окна (пардон: у иллюминатора)                       13   \n182  У окна (пардон: у иллюминатора)                        8   \n183  У окна (пардон: у иллюминатора)                        9   \n184  У окна (пардон: у иллюминатора)                        9   \n185  У окна (пардон: у иллюминатора)                        7   \n\n     Middle and ring finger  Middle and little finger  \n167                    10.0                      30.0  \n168                    13.0                      35.0  \n169                    10.0                      32.0  \n170                     5.0                      20.0  \n171                    11.0                      25.0  \n172                     6.0                      30.0  \n173                    11.0                      30.0  \n174                    10.0                      35.0  \n175                    13.0                      28.0  \n176                    12.0                      40.0  \n177                     4.0                       3.0  \n178                     2.0                       7.0  \n179                     5.0                      20.0  \n180                     5.0                      25.0  \n181                    23.0                      45.0  \n182                     9.0                      15.0  \n183                    16.0                      35.0  \n184                    15.0                      25.0  \n185                    10.0                      35.0  \n\n[19 rows x 48 columns]",
      "text/html": "<div>\n<style scoped>\n    .dataframe tbody tr th:only-of-type {\n        vertical-align: middle;\n    }\n\n    .dataframe tbody tr th {\n        vertical-align: top;\n    }\n\n    .dataframe thead th {\n        text-align: right;\n    }\n</style>\n<table border=\"1\" class=\"dataframe\">\n  <thead>\n    <tr style=\"text-align: right;\">\n      <th></th>\n      <th>Age</th>\n      <th>Growth</th>\n      <th>Shoe size</th>\n      <th>Course number</th>\n      <th>Year of birth</th>\n      <th>Friend number</th>\n      <th>Russian rating</th>\n      <th>Maths rating</th>\n      <th>Physics rating</th>\n      <th>Computer science rating</th>\n      <th>...</th>\n      <th>Social network duration min</th>\n      <th>Chocolate</th>\n      <th>City population</th>\n      <th>Strange people</th>\n      <th>Your insitute</th>\n      <th>Brother-sister</th>\n      <th>Plane seat</th>\n      <th>MIddle and index finger</th>\n      <th>Middle and ring finger</th>\n      <th>Middle and little finger</th>\n    </tr>\n  </thead>\n  <tbody>\n    <tr>\n      <th>167</th>\n      <td>21</td>\n      <td>168</td>\n      <td>40</td>\n      <td>4</td>\n      <td>2001</td>\n      <td>100</td>\n      <td>91</td>\n      <td>45</td>\n      <td>0</td>\n      <td>0</td>\n      <td>...</td>\n      <td>200</td>\n      <td>Натс</td>\n      <td>2.6</td>\n      <td>Экономический</td>\n      <td>СоцГум</td>\n      <td>нет ни брата ни сестры</td>\n      <td>У прохода</td>\n      <td>6</td>\n      <td>10.0</td>\n      <td>30.0</td>\n    </tr>\n    <tr>\n      <th>168</th>\n      <td>22</td>\n      <td>161</td>\n      <td>38</td>\n      <td>7</td>\n      <td>2000</td>\n      <td>50</td>\n      <td>91</td>\n      <td>74</td>\n      <td>0</td>\n      <td>0</td>\n      <td>...</td>\n      <td>1800</td>\n      <td>Натс</td>\n      <td>850000.0</td>\n      <td>Математический и ИТ</td>\n      <td>Другое</td>\n      <td>есть брат</td>\n      <td>У окна (пардон: у иллюминатора)</td>\n      <td>5</td>\n      <td>13.0</td>\n      <td>35.0</td>\n    </tr>\n    <tr>\n      <th>169</th>\n      <td>21</td>\n      <td>160</td>\n      <td>37</td>\n      <td>4</td>\n      <td>2001</td>\n      <td>221</td>\n      <td>94</td>\n      <td>76</td>\n      <td>0</td>\n      <td>0</td>\n      <td>...</td>\n      <td>0</td>\n      <td>Сникерс</td>\n      <td>800000.0</td>\n      <td>Педагогический</td>\n      <td>Экономический</td>\n      <td>нет ни брата ни сестры</td>\n      <td>У окна (пардон: у иллюминатора)</td>\n      <td>9</td>\n      <td>10.0</td>\n      <td>32.0</td>\n    </tr>\n    <tr>\n      <th>170</th>\n      <td>22</td>\n      <td>168</td>\n      <td>38</td>\n      <td>4</td>\n      <td>2000</td>\n      <td>49</td>\n      <td>100</td>\n      <td>56</td>\n      <td>0</td>\n      <td>0</td>\n      <td>...</td>\n      <td>240</td>\n      <td>КитКат</td>\n      <td>500000.0</td>\n      <td>Педагогический</td>\n      <td>Экономический</td>\n      <td>нет ни брата ни сестры</td>\n      <td>У окна (пардон: у иллюминатора)</td>\n      <td>10</td>\n      <td>5.0</td>\n      <td>20.0</td>\n    </tr>\n    <tr>\n      <th>171</th>\n      <td>20</td>\n      <td>162</td>\n      <td>37</td>\n      <td>2</td>\n      <td>2002</td>\n      <td>70</td>\n      <td>82</td>\n      <td>0</td>\n      <td>0</td>\n      <td>0</td>\n      <td>...</td>\n      <td>540</td>\n      <td>Твикс</td>\n      <td>900.0</td>\n      <td>СоцГум</td>\n      <td>Юридический</td>\n      <td>есть сестра</td>\n      <td>У прохода</td>\n      <td>4</td>\n      <td>11.0</td>\n      <td>25.0</td>\n    </tr>\n    <tr>\n      <th>172</th>\n      <td>21</td>\n      <td>164</td>\n      <td>37</td>\n      <td>4</td>\n      <td>2000</td>\n      <td>260</td>\n      <td>86</td>\n      <td>0</td>\n      <td>0</td>\n      <td>0</td>\n      <td>...</td>\n      <td>60</td>\n      <td>Милки Вей</td>\n      <td>900000.0</td>\n      <td>Математический и ИТ</td>\n      <td>СоцГум</td>\n      <td>есть брат</td>\n      <td>У окна (пардон: у иллюминатора)</td>\n      <td>10</td>\n      <td>6.0</td>\n      <td>30.0</td>\n    </tr>\n    <tr>\n      <th>173</th>\n      <td>29</td>\n      <td>176</td>\n      <td>39</td>\n      <td>7</td>\n      <td>1992</td>\n      <td>233</td>\n      <td>72</td>\n      <td>69</td>\n      <td>0</td>\n      <td>0</td>\n      <td>...</td>\n      <td>60</td>\n      <td>Сникерс</td>\n      <td>850000.0</td>\n      <td>Математический и ИТ</td>\n      <td>Экономический</td>\n      <td>есть сестра</td>\n      <td>У окна (пардон: у иллюминатора)</td>\n      <td>7</td>\n      <td>11.0</td>\n      <td>30.0</td>\n    </tr>\n    <tr>\n      <th>174</th>\n      <td>20</td>\n      <td>158</td>\n      <td>37</td>\n      <td>3</td>\n      <td>2001</td>\n      <td>21</td>\n      <td>91</td>\n      <td>56</td>\n      <td>0</td>\n      <td>0</td>\n      <td>...</td>\n      <td>120</td>\n      <td>Милки Вей</td>\n      <td>700000.0</td>\n      <td>Математический и ИТ</td>\n      <td>Естественный (биология-химия-физика-технари)</td>\n      <td>нет ни брата ни сестры</td>\n      <td>У прохода</td>\n      <td>9</td>\n      <td>10.0</td>\n      <td>35.0</td>\n    </tr>\n    <tr>\n      <th>175</th>\n      <td>18</td>\n      <td>176</td>\n      <td>38</td>\n      <td>2</td>\n      <td>2003</td>\n      <td>183</td>\n      <td>90</td>\n      <td>0</td>\n      <td>0</td>\n      <td>0</td>\n      <td>...</td>\n      <td>240</td>\n      <td>Марс</td>\n      <td>854627.0</td>\n      <td>Естественный (биология-химия-физика-технари)</td>\n      <td>СоцГум</td>\n      <td>есть сестра</td>\n      <td>У окна (пардон: у иллюминатора)</td>\n      <td>16</td>\n      <td>13.0</td>\n      <td>28.0</td>\n    </tr>\n    <tr>\n      <th>176</th>\n      <td>21</td>\n      <td>162</td>\n      <td>38</td>\n      <td>7</td>\n      <td>2000</td>\n      <td>150</td>\n      <td>89</td>\n      <td>0</td>\n      <td>0</td>\n      <td>0</td>\n      <td>...</td>\n      <td>300</td>\n      <td>Твикс</td>\n      <td>800000.0</td>\n      <td>СоцГум</td>\n      <td>СоцГум</td>\n      <td>есть и брат и сестра</td>\n      <td>У окна (пардон: у иллюминатора)</td>\n      <td>13</td>\n      <td>12.0</td>\n      <td>40.0</td>\n    </tr>\n    <tr>\n      <th>177</th>\n      <td>23</td>\n      <td>155</td>\n      <td>36</td>\n      <td>6</td>\n      <td>1999</td>\n      <td>90</td>\n      <td>91</td>\n      <td>51</td>\n      <td>0</td>\n      <td>0</td>\n      <td>...</td>\n      <td>100</td>\n      <td>Баунти</td>\n      <td>900000.0</td>\n      <td>Математический и ИТ</td>\n      <td>Математический и ИТ</td>\n      <td>есть сестра</td>\n      <td>У окна (пардон: у иллюминатора)</td>\n      <td>5</td>\n      <td>4.0</td>\n      <td>3.0</td>\n    </tr>\n    <tr>\n      <th>178</th>\n      <td>21</td>\n      <td>170</td>\n      <td>39</td>\n      <td>4</td>\n      <td>2001</td>\n      <td>123</td>\n      <td>76</td>\n      <td>0</td>\n      <td>0</td>\n      <td>0</td>\n      <td>...</td>\n      <td>360</td>\n      <td>Сникерс</td>\n      <td>800000.0</td>\n      <td>СоцГум</td>\n      <td>Юридический</td>\n      <td>есть и брат и сестра</td>\n      <td>У окна (пардон: у иллюминатора)</td>\n      <td>3</td>\n      <td>2.0</td>\n      <td>7.0</td>\n    </tr>\n    <tr>\n      <th>179</th>\n      <td>20</td>\n      <td>176</td>\n      <td>42</td>\n      <td>3</td>\n      <td>2001</td>\n      <td>80</td>\n      <td>85</td>\n      <td>0</td>\n      <td>0</td>\n      <td>0</td>\n      <td>...</td>\n      <td>120</td>\n      <td>Сникерс</td>\n      <td>700000.0</td>\n      <td>СоцГум</td>\n      <td>Юридический</td>\n      <td>есть сестра</td>\n      <td>У окна (пардон: у иллюминатора)</td>\n      <td>5</td>\n      <td>5.0</td>\n      <td>20.0</td>\n    </tr>\n    <tr>\n      <th>180</th>\n      <td>21</td>\n      <td>167</td>\n      <td>36</td>\n      <td>4</td>\n      <td>2000</td>\n      <td>120</td>\n      <td>98</td>\n      <td>56</td>\n      <td>0</td>\n      <td>0</td>\n      <td>...</td>\n      <td>120</td>\n      <td>Твикс</td>\n      <td>8000000.0</td>\n      <td>Педагогический</td>\n      <td>Педагогический</td>\n      <td>есть сестра</td>\n      <td>У окна (пардон: у иллюминатора)</td>\n      <td>10</td>\n      <td>5.0</td>\n      <td>25.0</td>\n    </tr>\n    <tr>\n      <th>181</th>\n      <td>23</td>\n      <td>168</td>\n      <td>39</td>\n      <td>7</td>\n      <td>1999</td>\n      <td>228</td>\n      <td>93</td>\n      <td>68</td>\n      <td>0</td>\n      <td>0</td>\n      <td>...</td>\n      <td>300</td>\n      <td>Твикс</td>\n      <td>770000.0</td>\n      <td>Естественный (биология-химия-физика-технари)</td>\n      <td>Естественный (биология-химия-физика-технари)</td>\n      <td>нет ни брата ни сестры</td>\n      <td>У окна (пардон: у иллюминатора)</td>\n      <td>13</td>\n      <td>23.0</td>\n      <td>45.0</td>\n    </tr>\n    <tr>\n      <th>182</th>\n      <td>19</td>\n      <td>169</td>\n      <td>38</td>\n      <td>1</td>\n      <td>2003</td>\n      <td>0</td>\n      <td>73</td>\n      <td>5</td>\n      <td>0</td>\n      <td>0</td>\n      <td>...</td>\n      <td>75</td>\n      <td>M&amp;Ms</td>\n      <td>1250000.0</td>\n      <td>Педагогический</td>\n      <td>СоцГум</td>\n      <td>есть сестра</td>\n      <td>У окна (пардон: у иллюминатора)</td>\n      <td>8</td>\n      <td>9.0</td>\n      <td>15.0</td>\n    </tr>\n    <tr>\n      <th>183</th>\n      <td>18</td>\n      <td>161</td>\n      <td>37</td>\n      <td>2</td>\n      <td>2003</td>\n      <td>11</td>\n      <td>98</td>\n      <td>0</td>\n      <td>0</td>\n      <td>0</td>\n      <td>...</td>\n      <td>460</td>\n      <td>Твикс</td>\n      <td>1000000.0</td>\n      <td>Естественный (биология-химия-физика-технари)</td>\n      <td>Другое</td>\n      <td>есть и брат и сестра</td>\n      <td>У окна (пардон: у иллюминатора)</td>\n      <td>9</td>\n      <td>16.0</td>\n      <td>35.0</td>\n    </tr>\n    <tr>\n      <th>184</th>\n      <td>19</td>\n      <td>169</td>\n      <td>41</td>\n      <td>1</td>\n      <td>2003</td>\n      <td>22</td>\n      <td>82</td>\n      <td>86</td>\n      <td>0</td>\n      <td>0</td>\n      <td>...</td>\n      <td>540</td>\n      <td>Твикс</td>\n      <td>850000.0</td>\n      <td>Естественный (биология-химия-физика-технари)</td>\n      <td>Математический и ИТ</td>\n      <td>есть брат</td>\n      <td>У окна (пардон: у иллюминатора)</td>\n      <td>9</td>\n      <td>15.0</td>\n      <td>25.0</td>\n    </tr>\n    <tr>\n      <th>185</th>\n      <td>18</td>\n      <td>164</td>\n      <td>39</td>\n      <td>2</td>\n      <td>2003</td>\n      <td>500</td>\n      <td>94</td>\n      <td>5</td>\n      <td>0</td>\n      <td>0</td>\n      <td>...</td>\n      <td>400</td>\n      <td>Твикс</td>\n      <td>800000.0</td>\n      <td>Юридический</td>\n      <td>СоцГум</td>\n      <td>нет ни брата ни сестры</td>\n      <td>У окна (пардон: у иллюминатора)</td>\n      <td>7</td>\n      <td>10.0</td>\n      <td>35.0</td>\n    </tr>\n  </tbody>\n</table>\n<p>19 rows × 48 columns</p>\n</div>"
     },
     "execution_count": 4,
     "metadata": {},
     "output_type": "execute_result"
    }
   ]
  },
  {
   "cell_type": "code",
   "source": [
    "df.info()"
   ],
   "metadata": {
    "colab": {
     "base_uri": "https://localhost:8080/"
    },
    "id": "g4w9NlrBs_0q",
    "executionInfo": {
     "status": "ok",
     "timestamp": 1664964245079,
     "user_tz": -300,
     "elapsed": 278,
     "user": {
      "displayName": "Артём Шевляков",
      "userId": "05637357451040981141"
     }
    },
    "outputId": "6863ea2f-c243-4491-c938-4e658a94e8f0"
   },
   "execution_count": 5,
   "outputs": [
    {
     "name": "stdout",
     "output_type": "stream",
     "text": [
      "<class 'pandas.core.frame.DataFrame'>\n",
      "RangeIndex: 186 entries, 0 to 185\n",
      "Data columns (total 48 columns):\n",
      " #   Column                       Non-Null Count  Dtype  \n",
      "---  ------                       --------------  -----  \n",
      " 0   Age                          186 non-null    int64  \n",
      " 1   Growth                       186 non-null    int64  \n",
      " 2   Shoe size                    186 non-null    int64  \n",
      " 3   Course number                186 non-null    int64  \n",
      " 4   Year of birth                186 non-null    int64  \n",
      " 5   Friend number                186 non-null    int64  \n",
      " 6   Russian rating               186 non-null    int64  \n",
      " 7   Maths rating                 186 non-null    int64  \n",
      " 8   Physics rating               186 non-null    int64  \n",
      " 9   Computer science rating      186 non-null    int64  \n",
      " 10  Chemistry rating             186 non-null    int64  \n",
      " 11  Literature rating            186 non-null    int64  \n",
      " 12  History rating               186 non-null    int64  \n",
      " 13  Geography rating             186 non-null    int64  \n",
      " 14  Biology rating               186 non-null    int64  \n",
      " 15  Foreign language rating      186 non-null    int64  \n",
      " 16  Social science rating        186 non-null    int64  \n",
      " 17  Distance to home km          186 non-null    int64  \n",
      " 18  Minutes to first class       186 non-null    int64  \n",
      " 19  Children number              150 non-null    float64\n",
      " 20  Removed teeth                148 non-null    float64\n",
      " 21  Weight                       157 non-null    float64\n",
      " 22  Glasses                      184 non-null    object \n",
      " 23  Sex                          186 non-null    object \n",
      " 24  Problems in last semester    186 non-null    object \n",
      " 25  Coin                         186 non-null    object \n",
      " 26  Rock paper scissors          186 non-null    object \n",
      " 27  Animal                       186 non-null    object \n",
      " 28  Month of birthday            186 non-null    int64  \n",
      " 29  Your rating in university    186 non-null    object \n",
      " 30  Fastfood                     186 non-null    object \n",
      " 31  Height of 5000 mm            186 non-null    int64  \n",
      " 32  Width of 5000 mm             186 non-null    int64  \n",
      " 33  Putin age                    186 non-null    int64  \n",
      " 34  Army                         186 non-null    object \n",
      " 35  Hostel                       186 non-null    object \n",
      " 36  Hair length                  186 non-null    float64\n",
      " 37  Floor number                 186 non-null    int64  \n",
      " 38  Social network duration min  186 non-null    int64  \n",
      " 39  Chocolate                    186 non-null    object \n",
      " 40  City population              186 non-null    float64\n",
      " 41  Strange people               186 non-null    object \n",
      " 42  Your insitute                186 non-null    object \n",
      " 43  Brother-sister               186 non-null    object \n",
      " 44  Plane seat                   186 non-null    object \n",
      " 45  MIddle and index finger      186 non-null    int64  \n",
      " 46  Middle and ring finger       186 non-null    float64\n",
      " 47  Middle and little finger     186 non-null    float64\n",
      "dtypes: float64(7), int64(26), object(15)\n",
      "memory usage: 69.9+ KB\n"
     ]
    }
   ]
  },
  {
   "cell_type": "markdown",
   "source": [
    "# Общие черты у программирования и религии\n",
    "\n",
    "1.   Есть невидимые сущности\n",
    "2.   Но у них известны имена\n",
    "3.   Им можно молиться и обращаться с просьбами\n",
    "\n"
   ],
   "metadata": {
    "id": "WDMqgSywvftI"
   }
  },
  {
   "cell_type": "code",
   "source": [
    "df.shape\n",
    "# получить размеры таблицы"
   ],
   "metadata": {
    "colab": {
     "base_uri": "https://localhost:8080/"
    },
    "id": "qKkQcWXcwgEq",
    "executionInfo": {
     "status": "ok",
     "timestamp": 1662014075095,
     "user_tz": -360,
     "elapsed": 775,
     "user": {
      "displayName": "Артём Шевляков",
      "userId": "05637357451040981141"
     }
    },
    "outputId": "73f327fa-ac50-405a-97b5-01b46c35f940"
   },
   "execution_count": 6,
   "outputs": [
    {
     "data": {
      "text/plain": "(186, 48)"
     },
     "execution_count": 6,
     "metadata": {},
     "output_type": "execute_result"
    }
   ]
  },
  {
   "cell_type": "code",
   "source": [
    "df"
   ],
   "metadata": {
    "id": "fg98tNw1wv65"
   },
   "execution_count": 7,
   "outputs": [
    {
     "data": {
      "text/plain": "     Age  Growth  Shoe size  Course number  Year of birth  Friend number  \\\n0     20     170         40              2           2002            100   \n1     22     191         43              7           2000            307   \n2     21     172         41              4           2000            186   \n3     19     168         38              2           2003            604   \n4     23     159         36              1           1998            144   \n..   ...     ...        ...            ...            ...            ...   \n181   23     168         39              7           1999            228   \n182   19     169         38              1           2003              0   \n183   18     161         37              2           2003             11   \n184   19     169         41              1           2003             22   \n185   18     164         39              2           2003            500   \n\n     Russian rating  Maths rating  Physics rating  Computer science rating  \\\n0                85            86               0                       84   \n1                69            74              64                       72   \n2                78            62               0                        0   \n3                72             0               0                        0   \n4                 0             0               0                        0   \n..              ...           ...             ...                      ...   \n181              93            68               0                        0   \n182              73             5               0                        0   \n183              98             0               0                        0   \n184              82            86               0                        0   \n185              94             5               0                        0   \n\n     ...  Social network duration min  Chocolate  City population  \\\n0    ...                           45    Сникерс         800000.0   \n1    ...                          180     КитКат         800000.0   \n2    ...                           90     КитКат         770000.0   \n3    ...                          200     Баунти         900000.0   \n4    ...                          400     Баунти         860000.0   \n..   ...                          ...        ...              ...   \n181  ...                          300      Твикс         770000.0   \n182  ...                           75       M&Ms        1250000.0   \n183  ...                          460      Твикс        1000000.0   \n184  ...                          540      Твикс         850000.0   \n185  ...                          400      Твикс         800000.0   \n\n                                   Strange people  \\\n0                                   Экономический   \n1                             Математический и ИТ   \n2                                  Педагогический   \n3                                          СоцГум   \n4                                  Педагогический   \n..                                            ...   \n181  Естественный (биология-химия-физика-технари)   \n182                                Педагогический   \n183  Естественный (биология-химия-физика-технари)   \n184  Естественный (биология-химия-физика-технари)   \n185                                   Юридический   \n\n                                    Your insitute          Brother-sister  \\\n0                             Математический и ИТ  нет ни брата ни сестры   \n1                             Математический и ИТ    есть и брат и сестра   \n2                                          Другое               есть брат   \n3                                     Юридический             есть сестра   \n4                                  Педагогический             есть сестра   \n..                                            ...                     ...   \n181  Естественный (биология-химия-физика-технари)  нет ни брата ни сестры   \n182                                        СоцГум             есть сестра   \n183                                        Другое    есть и брат и сестра   \n184                           Математический и ИТ               есть брат   \n185                                        СоцГум  нет ни брата ни сестры   \n\n                          Plane seat  MIddle and index finger  \\\n0    У окна (пардон: у иллюминатора)                       20   \n1                         В середине                        5   \n2    У окна (пардон: у иллюминатора)                       13   \n3    У окна (пардон: у иллюминатора)                       12   \n4    У окна (пардон: у иллюминатора)                       10   \n..                               ...                      ...   \n181  У окна (пардон: у иллюминатора)                       13   \n182  У окна (пардон: у иллюминатора)                        8   \n183  У окна (пардон: у иллюминатора)                        9   \n184  У окна (пардон: у иллюминатора)                        9   \n185  У окна (пардон: у иллюминатора)                        7   \n\n     Middle and ring finger  Middle and little finger  \n0                      10.0                      40.0  \n1                       5.0                      20.0  \n2                      10.0                      26.0  \n3                      13.5                      35.0  \n4                      11.0                      22.0  \n..                      ...                       ...  \n181                    23.0                      45.0  \n182                     9.0                      15.0  \n183                    16.0                      35.0  \n184                    15.0                      25.0  \n185                    10.0                      35.0  \n\n[186 rows x 48 columns]",
      "text/html": "<div>\n<style scoped>\n    .dataframe tbody tr th:only-of-type {\n        vertical-align: middle;\n    }\n\n    .dataframe tbody tr th {\n        vertical-align: top;\n    }\n\n    .dataframe thead th {\n        text-align: right;\n    }\n</style>\n<table border=\"1\" class=\"dataframe\">\n  <thead>\n    <tr style=\"text-align: right;\">\n      <th></th>\n      <th>Age</th>\n      <th>Growth</th>\n      <th>Shoe size</th>\n      <th>Course number</th>\n      <th>Year of birth</th>\n      <th>Friend number</th>\n      <th>Russian rating</th>\n      <th>Maths rating</th>\n      <th>Physics rating</th>\n      <th>Computer science rating</th>\n      <th>...</th>\n      <th>Social network duration min</th>\n      <th>Chocolate</th>\n      <th>City population</th>\n      <th>Strange people</th>\n      <th>Your insitute</th>\n      <th>Brother-sister</th>\n      <th>Plane seat</th>\n      <th>MIddle and index finger</th>\n      <th>Middle and ring finger</th>\n      <th>Middle and little finger</th>\n    </tr>\n  </thead>\n  <tbody>\n    <tr>\n      <th>0</th>\n      <td>20</td>\n      <td>170</td>\n      <td>40</td>\n      <td>2</td>\n      <td>2002</td>\n      <td>100</td>\n      <td>85</td>\n      <td>86</td>\n      <td>0</td>\n      <td>84</td>\n      <td>...</td>\n      <td>45</td>\n      <td>Сникерс</td>\n      <td>800000.0</td>\n      <td>Экономический</td>\n      <td>Математический и ИТ</td>\n      <td>нет ни брата ни сестры</td>\n      <td>У окна (пардон: у иллюминатора)</td>\n      <td>20</td>\n      <td>10.0</td>\n      <td>40.0</td>\n    </tr>\n    <tr>\n      <th>1</th>\n      <td>22</td>\n      <td>191</td>\n      <td>43</td>\n      <td>7</td>\n      <td>2000</td>\n      <td>307</td>\n      <td>69</td>\n      <td>74</td>\n      <td>64</td>\n      <td>72</td>\n      <td>...</td>\n      <td>180</td>\n      <td>КитКат</td>\n      <td>800000.0</td>\n      <td>Математический и ИТ</td>\n      <td>Математический и ИТ</td>\n      <td>есть и брат и сестра</td>\n      <td>В середине</td>\n      <td>5</td>\n      <td>5.0</td>\n      <td>20.0</td>\n    </tr>\n    <tr>\n      <th>2</th>\n      <td>21</td>\n      <td>172</td>\n      <td>41</td>\n      <td>4</td>\n      <td>2000</td>\n      <td>186</td>\n      <td>78</td>\n      <td>62</td>\n      <td>0</td>\n      <td>0</td>\n      <td>...</td>\n      <td>90</td>\n      <td>КитКат</td>\n      <td>770000.0</td>\n      <td>Педагогический</td>\n      <td>Другое</td>\n      <td>есть брат</td>\n      <td>У окна (пардон: у иллюминатора)</td>\n      <td>13</td>\n      <td>10.0</td>\n      <td>26.0</td>\n    </tr>\n    <tr>\n      <th>3</th>\n      <td>19</td>\n      <td>168</td>\n      <td>38</td>\n      <td>2</td>\n      <td>2003</td>\n      <td>604</td>\n      <td>72</td>\n      <td>0</td>\n      <td>0</td>\n      <td>0</td>\n      <td>...</td>\n      <td>200</td>\n      <td>Баунти</td>\n      <td>900000.0</td>\n      <td>СоцГум</td>\n      <td>Юридический</td>\n      <td>есть сестра</td>\n      <td>У окна (пардон: у иллюминатора)</td>\n      <td>12</td>\n      <td>13.5</td>\n      <td>35.0</td>\n    </tr>\n    <tr>\n      <th>4</th>\n      <td>23</td>\n      <td>159</td>\n      <td>36</td>\n      <td>1</td>\n      <td>1998</td>\n      <td>144</td>\n      <td>0</td>\n      <td>0</td>\n      <td>0</td>\n      <td>0</td>\n      <td>...</td>\n      <td>400</td>\n      <td>Баунти</td>\n      <td>860000.0</td>\n      <td>Педагогический</td>\n      <td>Педагогический</td>\n      <td>есть сестра</td>\n      <td>У окна (пардон: у иллюминатора)</td>\n      <td>10</td>\n      <td>11.0</td>\n      <td>22.0</td>\n    </tr>\n    <tr>\n      <th>...</th>\n      <td>...</td>\n      <td>...</td>\n      <td>...</td>\n      <td>...</td>\n      <td>...</td>\n      <td>...</td>\n      <td>...</td>\n      <td>...</td>\n      <td>...</td>\n      <td>...</td>\n      <td>...</td>\n      <td>...</td>\n      <td>...</td>\n      <td>...</td>\n      <td>...</td>\n      <td>...</td>\n      <td>...</td>\n      <td>...</td>\n      <td>...</td>\n      <td>...</td>\n      <td>...</td>\n    </tr>\n    <tr>\n      <th>181</th>\n      <td>23</td>\n      <td>168</td>\n      <td>39</td>\n      <td>7</td>\n      <td>1999</td>\n      <td>228</td>\n      <td>93</td>\n      <td>68</td>\n      <td>0</td>\n      <td>0</td>\n      <td>...</td>\n      <td>300</td>\n      <td>Твикс</td>\n      <td>770000.0</td>\n      <td>Естественный (биология-химия-физика-технари)</td>\n      <td>Естественный (биология-химия-физика-технари)</td>\n      <td>нет ни брата ни сестры</td>\n      <td>У окна (пардон: у иллюминатора)</td>\n      <td>13</td>\n      <td>23.0</td>\n      <td>45.0</td>\n    </tr>\n    <tr>\n      <th>182</th>\n      <td>19</td>\n      <td>169</td>\n      <td>38</td>\n      <td>1</td>\n      <td>2003</td>\n      <td>0</td>\n      <td>73</td>\n      <td>5</td>\n      <td>0</td>\n      <td>0</td>\n      <td>...</td>\n      <td>75</td>\n      <td>M&amp;Ms</td>\n      <td>1250000.0</td>\n      <td>Педагогический</td>\n      <td>СоцГум</td>\n      <td>есть сестра</td>\n      <td>У окна (пардон: у иллюминатора)</td>\n      <td>8</td>\n      <td>9.0</td>\n      <td>15.0</td>\n    </tr>\n    <tr>\n      <th>183</th>\n      <td>18</td>\n      <td>161</td>\n      <td>37</td>\n      <td>2</td>\n      <td>2003</td>\n      <td>11</td>\n      <td>98</td>\n      <td>0</td>\n      <td>0</td>\n      <td>0</td>\n      <td>...</td>\n      <td>460</td>\n      <td>Твикс</td>\n      <td>1000000.0</td>\n      <td>Естественный (биология-химия-физика-технари)</td>\n      <td>Другое</td>\n      <td>есть и брат и сестра</td>\n      <td>У окна (пардон: у иллюминатора)</td>\n      <td>9</td>\n      <td>16.0</td>\n      <td>35.0</td>\n    </tr>\n    <tr>\n      <th>184</th>\n      <td>19</td>\n      <td>169</td>\n      <td>41</td>\n      <td>1</td>\n      <td>2003</td>\n      <td>22</td>\n      <td>82</td>\n      <td>86</td>\n      <td>0</td>\n      <td>0</td>\n      <td>...</td>\n      <td>540</td>\n      <td>Твикс</td>\n      <td>850000.0</td>\n      <td>Естественный (биология-химия-физика-технари)</td>\n      <td>Математический и ИТ</td>\n      <td>есть брат</td>\n      <td>У окна (пардон: у иллюминатора)</td>\n      <td>9</td>\n      <td>15.0</td>\n      <td>25.0</td>\n    </tr>\n    <tr>\n      <th>185</th>\n      <td>18</td>\n      <td>164</td>\n      <td>39</td>\n      <td>2</td>\n      <td>2003</td>\n      <td>500</td>\n      <td>94</td>\n      <td>5</td>\n      <td>0</td>\n      <td>0</td>\n      <td>...</td>\n      <td>400</td>\n      <td>Твикс</td>\n      <td>800000.0</td>\n      <td>Юридический</td>\n      <td>СоцГум</td>\n      <td>нет ни брата ни сестры</td>\n      <td>У окна (пардон: у иллюминатора)</td>\n      <td>7</td>\n      <td>10.0</td>\n      <td>35.0</td>\n    </tr>\n  </tbody>\n</table>\n<p>186 rows × 48 columns</p>\n</div>"
     },
     "execution_count": 7,
     "metadata": {},
     "output_type": "execute_result"
    }
   ]
  },
  {
   "cell_type": "code",
   "source": [
    "df.head()\n",
    "#вывод на экран первых 5 строк таблицы"
   ],
   "metadata": {
    "id": "Ff_qcya2w98f"
   },
   "execution_count": 8,
   "outputs": [
    {
     "data": {
      "text/plain": "   Age  Growth  Shoe size  Course number  Year of birth  Friend number  \\\n0   20     170         40              2           2002            100   \n1   22     191         43              7           2000            307   \n2   21     172         41              4           2000            186   \n3   19     168         38              2           2003            604   \n4   23     159         36              1           1998            144   \n\n   Russian rating  Maths rating  Physics rating  Computer science rating  ...  \\\n0              85            86               0                       84  ...   \n1              69            74              64                       72  ...   \n2              78            62               0                        0  ...   \n3              72             0               0                        0  ...   \n4               0             0               0                        0  ...   \n\n   Social network duration min  Chocolate  City population  \\\n0                           45    Сникерс         800000.0   \n1                          180     КитКат         800000.0   \n2                           90     КитКат         770000.0   \n3                          200     Баунти         900000.0   \n4                          400     Баунти         860000.0   \n\n        Strange people        Your insitute          Brother-sister  \\\n0        Экономический  Математический и ИТ  нет ни брата ни сестры   \n1  Математический и ИТ  Математический и ИТ    есть и брат и сестра   \n2       Педагогический               Другое               есть брат   \n3               СоцГум          Юридический             есть сестра   \n4       Педагогический       Педагогический             есть сестра   \n\n                        Plane seat  MIddle and index finger  \\\n0  У окна (пардон: у иллюминатора)                       20   \n1                       В середине                        5   \n2  У окна (пардон: у иллюминатора)                       13   \n3  У окна (пардон: у иллюминатора)                       12   \n4  У окна (пардон: у иллюминатора)                       10   \n\n   Middle and ring finger  Middle and little finger  \n0                    10.0                      40.0  \n1                     5.0                      20.0  \n2                    10.0                      26.0  \n3                    13.5                      35.0  \n4                    11.0                      22.0  \n\n[5 rows x 48 columns]",
      "text/html": "<div>\n<style scoped>\n    .dataframe tbody tr th:only-of-type {\n        vertical-align: middle;\n    }\n\n    .dataframe tbody tr th {\n        vertical-align: top;\n    }\n\n    .dataframe thead th {\n        text-align: right;\n    }\n</style>\n<table border=\"1\" class=\"dataframe\">\n  <thead>\n    <tr style=\"text-align: right;\">\n      <th></th>\n      <th>Age</th>\n      <th>Growth</th>\n      <th>Shoe size</th>\n      <th>Course number</th>\n      <th>Year of birth</th>\n      <th>Friend number</th>\n      <th>Russian rating</th>\n      <th>Maths rating</th>\n      <th>Physics rating</th>\n      <th>Computer science rating</th>\n      <th>...</th>\n      <th>Social network duration min</th>\n      <th>Chocolate</th>\n      <th>City population</th>\n      <th>Strange people</th>\n      <th>Your insitute</th>\n      <th>Brother-sister</th>\n      <th>Plane seat</th>\n      <th>MIddle and index finger</th>\n      <th>Middle and ring finger</th>\n      <th>Middle and little finger</th>\n    </tr>\n  </thead>\n  <tbody>\n    <tr>\n      <th>0</th>\n      <td>20</td>\n      <td>170</td>\n      <td>40</td>\n      <td>2</td>\n      <td>2002</td>\n      <td>100</td>\n      <td>85</td>\n      <td>86</td>\n      <td>0</td>\n      <td>84</td>\n      <td>...</td>\n      <td>45</td>\n      <td>Сникерс</td>\n      <td>800000.0</td>\n      <td>Экономический</td>\n      <td>Математический и ИТ</td>\n      <td>нет ни брата ни сестры</td>\n      <td>У окна (пардон: у иллюминатора)</td>\n      <td>20</td>\n      <td>10.0</td>\n      <td>40.0</td>\n    </tr>\n    <tr>\n      <th>1</th>\n      <td>22</td>\n      <td>191</td>\n      <td>43</td>\n      <td>7</td>\n      <td>2000</td>\n      <td>307</td>\n      <td>69</td>\n      <td>74</td>\n      <td>64</td>\n      <td>72</td>\n      <td>...</td>\n      <td>180</td>\n      <td>КитКат</td>\n      <td>800000.0</td>\n      <td>Математический и ИТ</td>\n      <td>Математический и ИТ</td>\n      <td>есть и брат и сестра</td>\n      <td>В середине</td>\n      <td>5</td>\n      <td>5.0</td>\n      <td>20.0</td>\n    </tr>\n    <tr>\n      <th>2</th>\n      <td>21</td>\n      <td>172</td>\n      <td>41</td>\n      <td>4</td>\n      <td>2000</td>\n      <td>186</td>\n      <td>78</td>\n      <td>62</td>\n      <td>0</td>\n      <td>0</td>\n      <td>...</td>\n      <td>90</td>\n      <td>КитКат</td>\n      <td>770000.0</td>\n      <td>Педагогический</td>\n      <td>Другое</td>\n      <td>есть брат</td>\n      <td>У окна (пардон: у иллюминатора)</td>\n      <td>13</td>\n      <td>10.0</td>\n      <td>26.0</td>\n    </tr>\n    <tr>\n      <th>3</th>\n      <td>19</td>\n      <td>168</td>\n      <td>38</td>\n      <td>2</td>\n      <td>2003</td>\n      <td>604</td>\n      <td>72</td>\n      <td>0</td>\n      <td>0</td>\n      <td>0</td>\n      <td>...</td>\n      <td>200</td>\n      <td>Баунти</td>\n      <td>900000.0</td>\n      <td>СоцГум</td>\n      <td>Юридический</td>\n      <td>есть сестра</td>\n      <td>У окна (пардон: у иллюминатора)</td>\n      <td>12</td>\n      <td>13.5</td>\n      <td>35.0</td>\n    </tr>\n    <tr>\n      <th>4</th>\n      <td>23</td>\n      <td>159</td>\n      <td>36</td>\n      <td>1</td>\n      <td>1998</td>\n      <td>144</td>\n      <td>0</td>\n      <td>0</td>\n      <td>0</td>\n      <td>0</td>\n      <td>...</td>\n      <td>400</td>\n      <td>Баунти</td>\n      <td>860000.0</td>\n      <td>Педагогический</td>\n      <td>Педагогический</td>\n      <td>есть сестра</td>\n      <td>У окна (пардон: у иллюминатора)</td>\n      <td>10</td>\n      <td>11.0</td>\n      <td>22.0</td>\n    </tr>\n  </tbody>\n</table>\n<p>5 rows × 48 columns</p>\n</div>"
     },
     "execution_count": 8,
     "metadata": {},
     "output_type": "execute_result"
    }
   ]
  },
  {
   "cell_type": "code",
   "source": [
    "df.tail()\n",
    "#вывод последних строк"
   ],
   "metadata": {
    "id": "qoiuuwA8xKUa"
   },
   "execution_count": 9,
   "outputs": [
    {
     "data": {
      "text/plain": "     Age  Growth  Shoe size  Course number  Year of birth  Friend number  \\\n181   23     168         39              7           1999            228   \n182   19     169         38              1           2003              0   \n183   18     161         37              2           2003             11   \n184   19     169         41              1           2003             22   \n185   18     164         39              2           2003            500   \n\n     Russian rating  Maths rating  Physics rating  Computer science rating  \\\n181              93            68               0                        0   \n182              73             5               0                        0   \n183              98             0               0                        0   \n184              82            86               0                        0   \n185              94             5               0                        0   \n\n     ...  Social network duration min  Chocolate  City population  \\\n181  ...                          300      Твикс         770000.0   \n182  ...                           75       M&Ms        1250000.0   \n183  ...                          460      Твикс        1000000.0   \n184  ...                          540      Твикс         850000.0   \n185  ...                          400      Твикс         800000.0   \n\n                                   Strange people  \\\n181  Естественный (биология-химия-физика-технари)   \n182                                Педагогический   \n183  Естественный (биология-химия-физика-технари)   \n184  Естественный (биология-химия-физика-технари)   \n185                                   Юридический   \n\n                                    Your insitute          Brother-sister  \\\n181  Естественный (биология-химия-физика-технари)  нет ни брата ни сестры   \n182                                        СоцГум             есть сестра   \n183                                        Другое    есть и брат и сестра   \n184                           Математический и ИТ               есть брат   \n185                                        СоцГум  нет ни брата ни сестры   \n\n                          Plane seat  MIddle and index finger  \\\n181  У окна (пардон: у иллюминатора)                       13   \n182  У окна (пардон: у иллюминатора)                        8   \n183  У окна (пардон: у иллюминатора)                        9   \n184  У окна (пардон: у иллюминатора)                        9   \n185  У окна (пардон: у иллюминатора)                        7   \n\n     Middle and ring finger  Middle and little finger  \n181                    23.0                      45.0  \n182                     9.0                      15.0  \n183                    16.0                      35.0  \n184                    15.0                      25.0  \n185                    10.0                      35.0  \n\n[5 rows x 48 columns]",
      "text/html": "<div>\n<style scoped>\n    .dataframe tbody tr th:only-of-type {\n        vertical-align: middle;\n    }\n\n    .dataframe tbody tr th {\n        vertical-align: top;\n    }\n\n    .dataframe thead th {\n        text-align: right;\n    }\n</style>\n<table border=\"1\" class=\"dataframe\">\n  <thead>\n    <tr style=\"text-align: right;\">\n      <th></th>\n      <th>Age</th>\n      <th>Growth</th>\n      <th>Shoe size</th>\n      <th>Course number</th>\n      <th>Year of birth</th>\n      <th>Friend number</th>\n      <th>Russian rating</th>\n      <th>Maths rating</th>\n      <th>Physics rating</th>\n      <th>Computer science rating</th>\n      <th>...</th>\n      <th>Social network duration min</th>\n      <th>Chocolate</th>\n      <th>City population</th>\n      <th>Strange people</th>\n      <th>Your insitute</th>\n      <th>Brother-sister</th>\n      <th>Plane seat</th>\n      <th>MIddle and index finger</th>\n      <th>Middle and ring finger</th>\n      <th>Middle and little finger</th>\n    </tr>\n  </thead>\n  <tbody>\n    <tr>\n      <th>181</th>\n      <td>23</td>\n      <td>168</td>\n      <td>39</td>\n      <td>7</td>\n      <td>1999</td>\n      <td>228</td>\n      <td>93</td>\n      <td>68</td>\n      <td>0</td>\n      <td>0</td>\n      <td>...</td>\n      <td>300</td>\n      <td>Твикс</td>\n      <td>770000.0</td>\n      <td>Естественный (биология-химия-физика-технари)</td>\n      <td>Естественный (биология-химия-физика-технари)</td>\n      <td>нет ни брата ни сестры</td>\n      <td>У окна (пардон: у иллюминатора)</td>\n      <td>13</td>\n      <td>23.0</td>\n      <td>45.0</td>\n    </tr>\n    <tr>\n      <th>182</th>\n      <td>19</td>\n      <td>169</td>\n      <td>38</td>\n      <td>1</td>\n      <td>2003</td>\n      <td>0</td>\n      <td>73</td>\n      <td>5</td>\n      <td>0</td>\n      <td>0</td>\n      <td>...</td>\n      <td>75</td>\n      <td>M&amp;Ms</td>\n      <td>1250000.0</td>\n      <td>Педагогический</td>\n      <td>СоцГум</td>\n      <td>есть сестра</td>\n      <td>У окна (пардон: у иллюминатора)</td>\n      <td>8</td>\n      <td>9.0</td>\n      <td>15.0</td>\n    </tr>\n    <tr>\n      <th>183</th>\n      <td>18</td>\n      <td>161</td>\n      <td>37</td>\n      <td>2</td>\n      <td>2003</td>\n      <td>11</td>\n      <td>98</td>\n      <td>0</td>\n      <td>0</td>\n      <td>0</td>\n      <td>...</td>\n      <td>460</td>\n      <td>Твикс</td>\n      <td>1000000.0</td>\n      <td>Естественный (биология-химия-физика-технари)</td>\n      <td>Другое</td>\n      <td>есть и брат и сестра</td>\n      <td>У окна (пардон: у иллюминатора)</td>\n      <td>9</td>\n      <td>16.0</td>\n      <td>35.0</td>\n    </tr>\n    <tr>\n      <th>184</th>\n      <td>19</td>\n      <td>169</td>\n      <td>41</td>\n      <td>1</td>\n      <td>2003</td>\n      <td>22</td>\n      <td>82</td>\n      <td>86</td>\n      <td>0</td>\n      <td>0</td>\n      <td>...</td>\n      <td>540</td>\n      <td>Твикс</td>\n      <td>850000.0</td>\n      <td>Естественный (биология-химия-физика-технари)</td>\n      <td>Математический и ИТ</td>\n      <td>есть брат</td>\n      <td>У окна (пардон: у иллюминатора)</td>\n      <td>9</td>\n      <td>15.0</td>\n      <td>25.0</td>\n    </tr>\n    <tr>\n      <th>185</th>\n      <td>18</td>\n      <td>164</td>\n      <td>39</td>\n      <td>2</td>\n      <td>2003</td>\n      <td>500</td>\n      <td>94</td>\n      <td>5</td>\n      <td>0</td>\n      <td>0</td>\n      <td>...</td>\n      <td>400</td>\n      <td>Твикс</td>\n      <td>800000.0</td>\n      <td>Юридический</td>\n      <td>СоцГум</td>\n      <td>нет ни брата ни сестры</td>\n      <td>У окна (пардон: у иллюминатора)</td>\n      <td>7</td>\n      <td>10.0</td>\n      <td>35.0</td>\n    </tr>\n  </tbody>\n</table>\n<p>5 rows × 48 columns</p>\n</div>"
     },
     "execution_count": 9,
     "metadata": {},
     "output_type": "execute_result"
    }
   ]
  },
  {
   "cell_type": "code",
   "source": [
    "df.head(2)\n",
    "# вывод первых 2 строк "
   ],
   "metadata": {
    "id": "oGpmA3l8xT3X",
    "colab": {
     "base_uri": "https://localhost:8080/",
     "height": 327
    },
    "executionInfo": {
     "status": "ok",
     "timestamp": 1665941937856,
     "user_tz": -360,
     "elapsed": 55,
     "user": {
      "displayName": "Артём Шевляков",
      "userId": "05637357451040981141"
     }
    },
    "outputId": "b8f81513-9a17-4ff8-d9bf-201cda56d038"
   },
   "execution_count": 10,
   "outputs": [
    {
     "data": {
      "text/plain": "   Age  Growth  Shoe size  Course number  Year of birth  Friend number  \\\n0   20     170         40              2           2002            100   \n1   22     191         43              7           2000            307   \n\n   Russian rating  Maths rating  Physics rating  Computer science rating  ...  \\\n0              85            86               0                       84  ...   \n1              69            74              64                       72  ...   \n\n   Social network duration min  Chocolate  City population  \\\n0                           45    Сникерс         800000.0   \n1                          180     КитКат         800000.0   \n\n        Strange people        Your insitute          Brother-sister  \\\n0        Экономический  Математический и ИТ  нет ни брата ни сестры   \n1  Математический и ИТ  Математический и ИТ    есть и брат и сестра   \n\n                        Plane seat  MIddle and index finger  \\\n0  У окна (пардон: у иллюминатора)                       20   \n1                       В середине                        5   \n\n   Middle and ring finger  Middle and little finger  \n0                    10.0                      40.0  \n1                     5.0                      20.0  \n\n[2 rows x 48 columns]",
      "text/html": "<div>\n<style scoped>\n    .dataframe tbody tr th:only-of-type {\n        vertical-align: middle;\n    }\n\n    .dataframe tbody tr th {\n        vertical-align: top;\n    }\n\n    .dataframe thead th {\n        text-align: right;\n    }\n</style>\n<table border=\"1\" class=\"dataframe\">\n  <thead>\n    <tr style=\"text-align: right;\">\n      <th></th>\n      <th>Age</th>\n      <th>Growth</th>\n      <th>Shoe size</th>\n      <th>Course number</th>\n      <th>Year of birth</th>\n      <th>Friend number</th>\n      <th>Russian rating</th>\n      <th>Maths rating</th>\n      <th>Physics rating</th>\n      <th>Computer science rating</th>\n      <th>...</th>\n      <th>Social network duration min</th>\n      <th>Chocolate</th>\n      <th>City population</th>\n      <th>Strange people</th>\n      <th>Your insitute</th>\n      <th>Brother-sister</th>\n      <th>Plane seat</th>\n      <th>MIddle and index finger</th>\n      <th>Middle and ring finger</th>\n      <th>Middle and little finger</th>\n    </tr>\n  </thead>\n  <tbody>\n    <tr>\n      <th>0</th>\n      <td>20</td>\n      <td>170</td>\n      <td>40</td>\n      <td>2</td>\n      <td>2002</td>\n      <td>100</td>\n      <td>85</td>\n      <td>86</td>\n      <td>0</td>\n      <td>84</td>\n      <td>...</td>\n      <td>45</td>\n      <td>Сникерс</td>\n      <td>800000.0</td>\n      <td>Экономический</td>\n      <td>Математический и ИТ</td>\n      <td>нет ни брата ни сестры</td>\n      <td>У окна (пардон: у иллюминатора)</td>\n      <td>20</td>\n      <td>10.0</td>\n      <td>40.0</td>\n    </tr>\n    <tr>\n      <th>1</th>\n      <td>22</td>\n      <td>191</td>\n      <td>43</td>\n      <td>7</td>\n      <td>2000</td>\n      <td>307</td>\n      <td>69</td>\n      <td>74</td>\n      <td>64</td>\n      <td>72</td>\n      <td>...</td>\n      <td>180</td>\n      <td>КитКат</td>\n      <td>800000.0</td>\n      <td>Математический и ИТ</td>\n      <td>Математический и ИТ</td>\n      <td>есть и брат и сестра</td>\n      <td>В середине</td>\n      <td>5</td>\n      <td>5.0</td>\n      <td>20.0</td>\n    </tr>\n  </tbody>\n</table>\n<p>2 rows × 48 columns</p>\n</div>"
     },
     "execution_count": 10,
     "metadata": {},
     "output_type": "execute_result"
    }
   ]
  },
  {
   "cell_type": "markdown",
   "source": [
    "# Общая информация о признаках (столбцах)"
   ],
   "metadata": {
    "id": "n9lNd40qx7oT"
   }
  },
  {
   "cell_type": "code",
   "source": [
    "df['Age']\n",
    "#обращаемся к столбцу с признаком Age"
   ],
   "metadata": {
    "colab": {
     "base_uri": "https://localhost:8080/"
    },
    "id": "ih95TApnybhk",
    "executionInfo": {
     "status": "ok",
     "timestamp": 1662014598710,
     "user_tz": -360,
     "elapsed": 346,
     "user": {
      "displayName": "Артём Шевляков",
      "userId": "05637357451040981141"
     }
    },
    "outputId": "0ddae20f-645f-42ba-cc88-4e7b2b79c2b2"
   },
   "execution_count": 11,
   "outputs": [
    {
     "data": {
      "text/plain": "0      20\n1      22\n2      21\n3      19\n4      23\n       ..\n181    23\n182    19\n183    18\n184    19\n185    18\nName: Age, Length: 186, dtype: int64"
     },
     "execution_count": 11,
     "metadata": {},
     "output_type": "execute_result"
    }
   ]
  },
  {
   "cell_type": "code",
   "source": [
    "df['Age'].describe()"
   ],
   "metadata": {
    "colab": {
     "base_uri": "https://localhost:8080/"
    },
    "id": "4z72cxQgys1t",
    "executionInfo": {
     "status": "ok",
     "timestamp": 1662014678217,
     "user_tz": -360,
     "elapsed": 420,
     "user": {
      "displayName": "Артём Шевляков",
      "userId": "05637357451040981141"
     }
    },
    "outputId": "aaecf598-ae34-4790-b79c-a5e875447fbd"
   },
   "execution_count": 12,
   "outputs": [
    {
     "data": {
      "text/plain": "count    186.000000\nmean      20.688172\nstd        3.468713\nmin       17.000000\n25%       19.000000\n50%       20.000000\n75%       21.000000\nmax       55.000000\nName: Age, dtype: float64"
     },
     "execution_count": 12,
     "metadata": {},
     "output_type": "execute_result"
    }
   ]
  },
  {
   "cell_type": "code",
   "source": [
    "df['Growth'].describe()"
   ],
   "metadata": {
    "colab": {
     "base_uri": "https://localhost:8080/"
    },
    "id": "goGne_Vwz_tp",
    "executionInfo": {
     "status": "ok",
     "timestamp": 1662015070668,
     "user_tz": -360,
     "elapsed": 877,
     "user": {
      "displayName": "Артём Шевляков",
      "userId": "05637357451040981141"
     }
    },
    "outputId": "6c40a02c-a545-4b6b-a470-b771c6ec1f36"
   },
   "execution_count": 13,
   "outputs": [
    {
     "data": {
      "text/plain": "count    186.000000\nmean     170.661290\nstd        9.055881\nmin      153.000000\n25%      164.000000\n50%      169.000000\n75%      178.000000\nmax      197.000000\nName: Growth, dtype: float64"
     },
     "execution_count": 13,
     "metadata": {},
     "output_type": "execute_result"
    }
   ]
  },
  {
   "cell_type": "code",
   "source": [
    "df['Sex'].describe()"
   ],
   "metadata": {
    "colab": {
     "base_uri": "https://localhost:8080/"
    },
    "id": "rtr38RUd0vIF",
    "executionInfo": {
     "status": "ok",
     "timestamp": 1662015193594,
     "user_tz": -360,
     "elapsed": 343,
     "user": {
      "displayName": "Артём Шевляков",
      "userId": "05637357451040981141"
     }
    },
    "outputId": "ff998fd3-8110-4538-c56d-5dcc4cec7fa8"
   },
   "execution_count": 14,
   "outputs": [
    {
     "data": {
      "text/plain": "count         186\nunique          2\ntop       женский\nfreq          120\nName: Sex, dtype: object"
     },
     "execution_count": 14,
     "metadata": {},
     "output_type": "execute_result"
    }
   ]
  },
  {
   "cell_type": "code",
   "source": [
    "df['Sex'].value_counts()"
   ],
   "metadata": {
    "colab": {
     "base_uri": "https://localhost:8080/"
    },
    "id": "BkcSP-Jz1H1r",
    "executionInfo": {
     "status": "ok",
     "timestamp": 1662015297908,
     "user_tz": -360,
     "elapsed": 319,
     "user": {
      "displayName": "Артём Шевляков",
      "userId": "05637357451040981141"
     }
    },
    "outputId": "3178150b-eb97-4abf-f79f-45f21c417df7"
   },
   "execution_count": 15,
   "outputs": [
    {
     "data": {
      "text/plain": "женский    120\nмужской     66\nName: Sex, dtype: int64"
     },
     "execution_count": 15,
     "metadata": {},
     "output_type": "execute_result"
    }
   ]
  },
  {
   "cell_type": "code",
   "source": [
    "df['Chocolate'].value_counts()"
   ],
   "metadata": {
    "colab": {
     "base_uri": "https://localhost:8080/"
    },
    "id": "KMaMGIXi1Sun",
    "executionInfo": {
     "status": "ok",
     "timestamp": 1662015351859,
     "user_tz": -360,
     "elapsed": 358,
     "user": {
      "displayName": "Артём Шевляков",
      "userId": "05637357451040981141"
     }
    },
    "outputId": "54687408-36be-47a8-b07d-ba7d14cca7f6"
   },
   "execution_count": 16,
   "outputs": [
    {
     "data": {
      "text/plain": "КитКат                               35\nСникерс                              34\nТвикс                                34\nБаунти                               30\nМилки Вей                            17\nНатс                                 13\nМарс                                 11\nM&Ms                                  8\nСкиттлс (хотя это и не шоколадка)     4\nName: Chocolate, dtype: int64"
     },
     "execution_count": 16,
     "metadata": {},
     "output_type": "execute_result"
    }
   ]
  },
  {
   "cell_type": "code",
   "source": [
    "df.describe()"
   ],
   "metadata": {
    "colab": {
     "base_uri": "https://localhost:8080/",
     "height": 446
    },
    "id": "a0C1ErAK1d6l",
    "executionInfo": {
     "status": "ok",
     "timestamp": 1662015398367,
     "user_tz": -360,
     "elapsed": 444,
     "user": {
      "displayName": "Артём Шевляков",
      "userId": "05637357451040981141"
     }
    },
    "outputId": "de1cd71a-56f9-4d52-d1c2-58db73e69646"
   },
   "execution_count": 17,
   "outputs": [
    {
     "data": {
      "text/plain": "              Age      Growth   Shoe size  Course number  Year of birth  \\\ncount  186.000000  186.000000  186.000000     186.000000     186.000000   \nmean    20.688172  170.661290   39.715054       3.500000    1991.107527   \nstd      3.468713    9.055881    2.814920       3.147285     132.099550   \nmin     17.000000  153.000000   34.000000       0.000000     200.000000   \n25%     19.000000  164.000000   38.000000       2.000000    2000.000000   \n50%     20.000000  169.000000   39.000000       3.000000    2001.500000   \n75%     21.000000  178.000000   42.000000       4.000000    2003.000000   \nmax     55.000000  197.000000   48.000000      37.000000    2004.000000   \n\n       Friend number  Russian rating  Maths rating  Physics rating  \\\ncount     186.000000      186.000000    186.000000      186.000000   \nmean      374.032258       81.634409     58.177419       13.182796   \nstd      2199.541507       14.325019     29.575478       26.414552   \nmin         0.000000        0.000000      0.000000        0.000000   \n25%        74.500000       76.000000     50.000000        0.000000   \n50%       130.000000       85.000000     70.000000        0.000000   \n75%       236.000000       91.000000     76.750000        0.000000   \nmax     30000.000000      100.000000    100.000000       97.000000   \n\n       Computer science rating  ...  Height of 5000 mm  Width of 5000 mm  \\\ncount               186.000000  ...         186.000000        186.000000   \nmean                 32.801075  ...          75.720430        177.688172   \nstd                  38.992282  ...         107.747088        240.978320   \nmin                   0.000000  ...           0.000000          0.000000   \n25%                   0.000000  ...          50.000000        100.000000   \n50%                   0.000000  ...          60.000000        140.000000   \n75%                  75.000000  ...          70.000000        167.250000   \nmax                  98.000000  ...         950.000000       1800.000000   \n\n           Putin age  Hair length  Floor number  Social network duration min  \\\ncount     186.000000   186.000000    186.000000                 1.860000e+02   \nmean      690.236559    34.365054      6.322581                 5.417500e+08   \nstd      7360.321689    25.672211      4.338791                 7.332267e+09   \nmin        42.000000     0.200000      1.000000                 0.000000e+00   \n25%        67.000000    12.000000      3.000000                 1.200000e+02   \n50%        69.000000    30.000000      5.000000                 2.000000e+02   \n75%        70.000000    50.000000      8.000000                 3.600000e+02   \nmax    100000.000000   150.000000     20.000000                 1.000000e+11   \n\n       City population  MIddle and index finger  Middle and ring finger  \\\ncount     1.860000e+02               186.000000              186.000000   \nmean      7.946669e+05                 9.741935                9.705376   \nstd       6.093052e+05                 4.385241                6.894963   \nmin       1.000000e+00                 0.000000                0.000000   \n25%       7.000000e+05                 7.000000                6.000000   \n50%       8.000000e+05                10.000000               10.000000   \n75%       8.845000e+05                12.000000               12.000000   \nmax       8.000000e+06                30.000000               80.000000   \n\n       Middle and little finger  \ncount                186.000000  \nmean                  28.798925  \nstd                   19.710011  \nmin                    0.000000  \n25%                   20.000000  \n50%                   28.500000  \n75%                   35.000000  \nmax                  250.000000  \n\n[8 rows x 33 columns]",
      "text/html": "<div>\n<style scoped>\n    .dataframe tbody tr th:only-of-type {\n        vertical-align: middle;\n    }\n\n    .dataframe tbody tr th {\n        vertical-align: top;\n    }\n\n    .dataframe thead th {\n        text-align: right;\n    }\n</style>\n<table border=\"1\" class=\"dataframe\">\n  <thead>\n    <tr style=\"text-align: right;\">\n      <th></th>\n      <th>Age</th>\n      <th>Growth</th>\n      <th>Shoe size</th>\n      <th>Course number</th>\n      <th>Year of birth</th>\n      <th>Friend number</th>\n      <th>Russian rating</th>\n      <th>Maths rating</th>\n      <th>Physics rating</th>\n      <th>Computer science rating</th>\n      <th>...</th>\n      <th>Height of 5000 mm</th>\n      <th>Width of 5000 mm</th>\n      <th>Putin age</th>\n      <th>Hair length</th>\n      <th>Floor number</th>\n      <th>Social network duration min</th>\n      <th>City population</th>\n      <th>MIddle and index finger</th>\n      <th>Middle and ring finger</th>\n      <th>Middle and little finger</th>\n    </tr>\n  </thead>\n  <tbody>\n    <tr>\n      <th>count</th>\n      <td>186.000000</td>\n      <td>186.000000</td>\n      <td>186.000000</td>\n      <td>186.000000</td>\n      <td>186.000000</td>\n      <td>186.000000</td>\n      <td>186.000000</td>\n      <td>186.000000</td>\n      <td>186.000000</td>\n      <td>186.000000</td>\n      <td>...</td>\n      <td>186.000000</td>\n      <td>186.000000</td>\n      <td>186.000000</td>\n      <td>186.000000</td>\n      <td>186.000000</td>\n      <td>1.860000e+02</td>\n      <td>1.860000e+02</td>\n      <td>186.000000</td>\n      <td>186.000000</td>\n      <td>186.000000</td>\n    </tr>\n    <tr>\n      <th>mean</th>\n      <td>20.688172</td>\n      <td>170.661290</td>\n      <td>39.715054</td>\n      <td>3.500000</td>\n      <td>1991.107527</td>\n      <td>374.032258</td>\n      <td>81.634409</td>\n      <td>58.177419</td>\n      <td>13.182796</td>\n      <td>32.801075</td>\n      <td>...</td>\n      <td>75.720430</td>\n      <td>177.688172</td>\n      <td>690.236559</td>\n      <td>34.365054</td>\n      <td>6.322581</td>\n      <td>5.417500e+08</td>\n      <td>7.946669e+05</td>\n      <td>9.741935</td>\n      <td>9.705376</td>\n      <td>28.798925</td>\n    </tr>\n    <tr>\n      <th>std</th>\n      <td>3.468713</td>\n      <td>9.055881</td>\n      <td>2.814920</td>\n      <td>3.147285</td>\n      <td>132.099550</td>\n      <td>2199.541507</td>\n      <td>14.325019</td>\n      <td>29.575478</td>\n      <td>26.414552</td>\n      <td>38.992282</td>\n      <td>...</td>\n      <td>107.747088</td>\n      <td>240.978320</td>\n      <td>7360.321689</td>\n      <td>25.672211</td>\n      <td>4.338791</td>\n      <td>7.332267e+09</td>\n      <td>6.093052e+05</td>\n      <td>4.385241</td>\n      <td>6.894963</td>\n      <td>19.710011</td>\n    </tr>\n    <tr>\n      <th>min</th>\n      <td>17.000000</td>\n      <td>153.000000</td>\n      <td>34.000000</td>\n      <td>0.000000</td>\n      <td>200.000000</td>\n      <td>0.000000</td>\n      <td>0.000000</td>\n      <td>0.000000</td>\n      <td>0.000000</td>\n      <td>0.000000</td>\n      <td>...</td>\n      <td>0.000000</td>\n      <td>0.000000</td>\n      <td>42.000000</td>\n      <td>0.200000</td>\n      <td>1.000000</td>\n      <td>0.000000e+00</td>\n      <td>1.000000e+00</td>\n      <td>0.000000</td>\n      <td>0.000000</td>\n      <td>0.000000</td>\n    </tr>\n    <tr>\n      <th>25%</th>\n      <td>19.000000</td>\n      <td>164.000000</td>\n      <td>38.000000</td>\n      <td>2.000000</td>\n      <td>2000.000000</td>\n      <td>74.500000</td>\n      <td>76.000000</td>\n      <td>50.000000</td>\n      <td>0.000000</td>\n      <td>0.000000</td>\n      <td>...</td>\n      <td>50.000000</td>\n      <td>100.000000</td>\n      <td>67.000000</td>\n      <td>12.000000</td>\n      <td>3.000000</td>\n      <td>1.200000e+02</td>\n      <td>7.000000e+05</td>\n      <td>7.000000</td>\n      <td>6.000000</td>\n      <td>20.000000</td>\n    </tr>\n    <tr>\n      <th>50%</th>\n      <td>20.000000</td>\n      <td>169.000000</td>\n      <td>39.000000</td>\n      <td>3.000000</td>\n      <td>2001.500000</td>\n      <td>130.000000</td>\n      <td>85.000000</td>\n      <td>70.000000</td>\n      <td>0.000000</td>\n      <td>0.000000</td>\n      <td>...</td>\n      <td>60.000000</td>\n      <td>140.000000</td>\n      <td>69.000000</td>\n      <td>30.000000</td>\n      <td>5.000000</td>\n      <td>2.000000e+02</td>\n      <td>8.000000e+05</td>\n      <td>10.000000</td>\n      <td>10.000000</td>\n      <td>28.500000</td>\n    </tr>\n    <tr>\n      <th>75%</th>\n      <td>21.000000</td>\n      <td>178.000000</td>\n      <td>42.000000</td>\n      <td>4.000000</td>\n      <td>2003.000000</td>\n      <td>236.000000</td>\n      <td>91.000000</td>\n      <td>76.750000</td>\n      <td>0.000000</td>\n      <td>75.000000</td>\n      <td>...</td>\n      <td>70.000000</td>\n      <td>167.250000</td>\n      <td>70.000000</td>\n      <td>50.000000</td>\n      <td>8.000000</td>\n      <td>3.600000e+02</td>\n      <td>8.845000e+05</td>\n      <td>12.000000</td>\n      <td>12.000000</td>\n      <td>35.000000</td>\n    </tr>\n    <tr>\n      <th>max</th>\n      <td>55.000000</td>\n      <td>197.000000</td>\n      <td>48.000000</td>\n      <td>37.000000</td>\n      <td>2004.000000</td>\n      <td>30000.000000</td>\n      <td>100.000000</td>\n      <td>100.000000</td>\n      <td>97.000000</td>\n      <td>98.000000</td>\n      <td>...</td>\n      <td>950.000000</td>\n      <td>1800.000000</td>\n      <td>100000.000000</td>\n      <td>150.000000</td>\n      <td>20.000000</td>\n      <td>1.000000e+11</td>\n      <td>8.000000e+06</td>\n      <td>30.000000</td>\n      <td>80.000000</td>\n      <td>250.000000</td>\n    </tr>\n  </tbody>\n</table>\n<p>8 rows × 33 columns</p>\n</div>"
     },
     "execution_count": 17,
     "metadata": {},
     "output_type": "execute_result"
    }
   ]
  },
  {
   "cell_type": "code",
   "source": [
    "df[df['Weight']==df['Weight'].max()]"
   ],
   "metadata": {
    "colab": {
     "base_uri": "https://localhost:8080/",
     "height": 241
    },
    "id": "fmYEnKC1BiyF",
    "executionInfo": {
     "status": "ok",
     "timestamp": 1665378717049,
     "user_tz": -300,
     "elapsed": 532,
     "user": {
      "displayName": "Артём Шевляков",
      "userId": "05637357451040981141"
     }
    },
    "outputId": "68ac6d62-1cdb-4fd9-d93c-e2f98069e4b6"
   },
   "execution_count": 18,
   "outputs": [
    {
     "data": {
      "text/plain": "   Age  Growth  Shoe size  Course number  Year of birth  Friend number  \\\n7   19     180         48              1           2003              5   \n\n   Russian rating  Maths rating  Physics rating  Computer science rating  ...  \\\n7              72             0               0                        0  ...   \n\n   Social network duration min  Chocolate  City population  \\\n7                          240     Баунти         880000.0   \n\n                                 Strange people  Your insitute  \\\n7  Естественный (биология-химия-физика-технари)    Юридический   \n\n   Brother-sister                       Plane seat  MIddle and index finger  \\\n7       есть брат  У окна (пардон: у иллюминатора)                        7   \n\n   Middle and ring finger  Middle and little finger  \n7                     5.0                      25.0  \n\n[1 rows x 48 columns]",
      "text/html": "<div>\n<style scoped>\n    .dataframe tbody tr th:only-of-type {\n        vertical-align: middle;\n    }\n\n    .dataframe tbody tr th {\n        vertical-align: top;\n    }\n\n    .dataframe thead th {\n        text-align: right;\n    }\n</style>\n<table border=\"1\" class=\"dataframe\">\n  <thead>\n    <tr style=\"text-align: right;\">\n      <th></th>\n      <th>Age</th>\n      <th>Growth</th>\n      <th>Shoe size</th>\n      <th>Course number</th>\n      <th>Year of birth</th>\n      <th>Friend number</th>\n      <th>Russian rating</th>\n      <th>Maths rating</th>\n      <th>Physics rating</th>\n      <th>Computer science rating</th>\n      <th>...</th>\n      <th>Social network duration min</th>\n      <th>Chocolate</th>\n      <th>City population</th>\n      <th>Strange people</th>\n      <th>Your insitute</th>\n      <th>Brother-sister</th>\n      <th>Plane seat</th>\n      <th>MIddle and index finger</th>\n      <th>Middle and ring finger</th>\n      <th>Middle and little finger</th>\n    </tr>\n  </thead>\n  <tbody>\n    <tr>\n      <th>7</th>\n      <td>19</td>\n      <td>180</td>\n      <td>48</td>\n      <td>1</td>\n      <td>2003</td>\n      <td>5</td>\n      <td>72</td>\n      <td>0</td>\n      <td>0</td>\n      <td>0</td>\n      <td>...</td>\n      <td>240</td>\n      <td>Баунти</td>\n      <td>880000.0</td>\n      <td>Естественный (биология-химия-физика-технари)</td>\n      <td>Юридический</td>\n      <td>есть брат</td>\n      <td>У окна (пардон: у иллюминатора)</td>\n      <td>7</td>\n      <td>5.0</td>\n      <td>25.0</td>\n    </tr>\n  </tbody>\n</table>\n<p>1 rows × 48 columns</p>\n</div>"
     },
     "execution_count": 18,
     "metadata": {},
     "output_type": "execute_result"
    }
   ]
  },
  {
   "cell_type": "code",
   "source": [
    "df['Social network duration min'].median()"
   ],
   "metadata": {
    "colab": {
     "base_uri": "https://localhost:8080/"
    },
    "id": "rLCv1_kNWCXp",
    "executionInfo": {
     "status": "ok",
     "timestamp": 1665379408859,
     "user_tz": -300,
     "elapsed": 2,
     "user": {
      "displayName": "Артём Шевляков",
      "userId": "05637357451040981141"
     }
    },
    "outputId": "6b543822-b7f2-4852-e7ed-4979713470b8"
   },
   "execution_count": 19,
   "outputs": [
    {
     "data": {
      "text/plain": "200.0"
     },
     "execution_count": 19,
     "metadata": {},
     "output_type": "execute_result"
    }
   ]
  },
  {
   "cell_type": "code",
   "source": [
    "df[df['Brother-sister']=='нет ни брата ни сестры']['Social network duration min'].median()"
   ],
   "metadata": {
    "colab": {
     "base_uri": "https://localhost:8080/"
    },
    "id": "xmpBJZ2xWSYo",
    "executionInfo": {
     "status": "ok",
     "timestamp": 1665379481964,
     "user_tz": -300,
     "elapsed": 3,
     "user": {
      "displayName": "Артём Шевляков",
      "userId": "05637357451040981141"
     }
    },
    "outputId": "763e049d-6005-47ef-e161-e7826b99e030"
   },
   "execution_count": 20,
   "outputs": [
    {
     "data": {
      "text/plain": "240.0"
     },
     "execution_count": 20,
     "metadata": {},
     "output_type": "execute_result"
    }
   ]
  },
  {
   "cell_type": "code",
   "source": [
    "df[df['Brother-sister']!='нет ни брата ни сестры']['Social network duration min'].median()"
   ],
   "metadata": {
    "colab": {
     "base_uri": "https://localhost:8080/"
    },
    "id": "9qGUwdQKWkxH",
    "executionInfo": {
     "status": "ok",
     "timestamp": 1665379503078,
     "user_tz": -300,
     "elapsed": 2,
     "user": {
      "displayName": "Артём Шевляков",
      "userId": "05637357451040981141"
     }
    },
    "outputId": "05214732-d2b1-4319-fc29-f5f13c16fae6"
   },
   "execution_count": 21,
   "outputs": [
    {
     "data": {
      "text/plain": "180.0"
     },
     "execution_count": 21,
     "metadata": {},
     "output_type": "execute_result"
    }
   ]
  },
  {
   "cell_type": "code",
   "source": [
    "df['Brother-sister'].value_counts()"
   ],
   "metadata": {
    "colab": {
     "base_uri": "https://localhost:8080/"
    },
    "id": "s05t0AEIWdYu",
    "executionInfo": {
     "status": "ok",
     "timestamp": 1665379466348,
     "user_tz": -300,
     "elapsed": 2,
     "user": {
      "displayName": "Артём Шевляков",
      "userId": "05637357451040981141"
     }
    },
    "outputId": "b76ee126-7d70-40f4-a44f-c13dd5096576"
   },
   "execution_count": 22,
   "outputs": [
    {
     "data": {
      "text/plain": "есть брат                 62\nесть сестра               55\nнет ни брата ни сестры    39\nесть и брат и сестра      30\nName: Brother-sister, dtype: int64"
     },
     "execution_count": 22,
     "metadata": {},
     "output_type": "execute_result"
    }
   ]
  },
  {
   "cell_type": "code",
   "source": [
    "df['Fastfood'].value_counts()"
   ],
   "metadata": {
    "colab": {
     "base_uri": "https://localhost:8080/"
    },
    "id": "5vM2VJGJWzYv",
    "executionInfo": {
     "status": "ok",
     "timestamp": 1665379565943,
     "user_tz": -300,
     "elapsed": 2,
     "user": {
      "displayName": "Артём Шевляков",
      "userId": "05637357451040981141"
     }
    },
    "outputId": "6a5ca774-cf7b-474c-f3c1-948e711d9118"
   },
   "execution_count": 23,
   "outputs": [
    {
     "data": {
      "text/plain": "KFC                                                82\nБургер кинг                                        56\nМакдональдс (или как он там сейчас называется?)    48\nName: Fastfood, dtype: int64"
     },
     "execution_count": 23,
     "metadata": {},
     "output_type": "execute_result"
    }
   ]
  },
  {
   "cell_type": "code",
   "source": [
    "df[df['Fastfood']=='KFC']['Weight'].mean(),df[df['Fastfood']=='Бургер кинг']['Weight'].mean(),df[df['Fastfood']=='Макдональдс (или как он там сейчас называется?)']['Weight'].mean()"
   ],
   "metadata": {
    "colab": {
     "base_uri": "https://localhost:8080/"
    },
    "id": "AGh_0FrNW7l_",
    "executionInfo": {
     "status": "ok",
     "timestamp": 1665379642008,
     "user_tz": -300,
     "elapsed": 271,
     "user": {
      "displayName": "Артём Шевляков",
      "userId": "05637357451040981141"
     }
    },
    "outputId": "d47d3849-f2b1-4791-f02f-90f7b7baf942"
   },
   "execution_count": 24,
   "outputs": [
    {
     "data": {
      "text/plain": "(66.85915492957747, 64.21739130434783, 58.8)"
     },
     "execution_count": 24,
     "metadata": {},
     "output_type": "execute_result"
    }
   ]
  },
  {
   "cell_type": "code",
   "source": [
    "df[df['Fastfood']=='KFC']['Weight'].mean()-df[df['Fastfood']=='Макдональдс (или как он там сейчас называется?)']['Weight'].mean()"
   ],
   "metadata": {
    "colab": {
     "base_uri": "https://localhost:8080/"
    },
    "id": "QQd92z_FmiJn",
    "executionInfo": {
     "status": "ok",
     "timestamp": 1665383689317,
     "user_tz": -300,
     "elapsed": 3,
     "user": {
      "displayName": "Артём Шевляков",
      "userId": "05637357451040981141"
     }
    },
    "outputId": "4269e612-5610-4633-c969-dac5c3e6db2c"
   },
   "execution_count": 25,
   "outputs": [
    {
     "data": {
      "text/plain": "8.059154929577474"
     },
     "execution_count": 25,
     "metadata": {},
     "output_type": "execute_result"
    }
   ]
  },
  {
   "cell_type": "code",
   "source": [
    "df[df['Fastfood']=='KFC']['Weight'].median(),df[df['Fastfood']=='Бургер кинг']['Weight'].median(),df[df['Fastfood']=='Макдональдс (или как он там сейчас называется?)']['Weight'].median()"
   ],
   "metadata": {
    "colab": {
     "base_uri": "https://localhost:8080/"
    },
    "id": "zkz6HyS6XM9u",
    "executionInfo": {
     "status": "ok",
     "timestamp": 1665379661068,
     "user_tz": -300,
     "elapsed": 272,
     "user": {
      "displayName": "Артём Шевляков",
      "userId": "05637357451040981141"
     }
    },
    "outputId": "258cbce8-f96a-4023-9eca-5e566acb2bd2"
   },
   "execution_count": 26,
   "outputs": [
    {
     "data": {
      "text/plain": "(62.0, 61.5, 58.5)"
     },
     "execution_count": 26,
     "metadata": {},
     "output_type": "execute_result"
    }
   ]
  },
  {
   "cell_type": "code",
   "source": [
    "df['Army'].value_counts()"
   ],
   "metadata": {
    "colab": {
     "base_uri": "https://localhost:8080/"
    },
    "id": "TTd-pHpWX-D8",
    "executionInfo": {
     "status": "ok",
     "timestamp": 1665379904679,
     "user_tz": -300,
     "elapsed": 2,
     "user": {
      "displayName": "Артём Шевляков",
      "userId": "05637357451040981141"
     }
    },
    "outputId": "2044ec64-3035-477a-e65f-a7fafbee4a41"
   },
   "execution_count": 27,
   "outputs": [
    {
     "data": {
      "text/plain": "не призовут (по разным причинам)    149\nмогут призвать                       37\nName: Army, dtype: int64"
     },
     "execution_count": 27,
     "metadata": {},
     "output_type": "execute_result"
    }
   ]
  },
  {
   "cell_type": "code",
   "source": [
    "df[df['Army']=='не призовут (по разным причинам)']['Hair length'].describe()"
   ],
   "metadata": {
    "colab": {
     "base_uri": "https://localhost:8080/"
    },
    "id": "3e5j8sMxYMXM",
    "executionInfo": {
     "status": "ok",
     "timestamp": 1665379964963,
     "user_tz": -300,
     "elapsed": 2,
     "user": {
      "displayName": "Артём Шевляков",
      "userId": "05637357451040981141"
     }
    },
    "outputId": "c64a9f29-9964-42b6-f044-950c71ccbb9d"
   },
   "execution_count": 28,
   "outputs": [
    {
     "data": {
      "text/plain": "count    149.000000\nmean      40.155705\nstd       25.032361\nmin        0.700000\n25%       20.000000\n50%       40.000000\n75%       50.000000\nmax      150.000000\nName: Hair length, dtype: float64"
     },
     "execution_count": 28,
     "metadata": {},
     "output_type": "execute_result"
    }
   ]
  },
  {
   "cell_type": "code",
   "source": [
    "df[df['Army']=='могут призвать']['Hair length'].describe()"
   ],
   "metadata": {
    "colab": {
     "base_uri": "https://localhost:8080/"
    },
    "id": "lcnzP2PYYWO3",
    "executionInfo": {
     "status": "ok",
     "timestamp": 1665379962919,
     "user_tz": -300,
     "elapsed": 274,
     "user": {
      "displayName": "Артём Шевляков",
      "userId": "05637357451040981141"
     }
    },
    "outputId": "765152b7-55cc-41be-9e85-c4256390db22"
   },
   "execution_count": 29,
   "outputs": [
    {
     "data": {
      "text/plain": "count    37.000000\nmean     11.045946\nstd      10.633819\nmin       0.200000\n25%       3.000000\n50%       7.000000\n75%      15.000000\nmax      45.000000\nName: Hair length, dtype: float64"
     },
     "execution_count": 29,
     "metadata": {},
     "output_type": "execute_result"
    }
   ]
  },
  {
   "cell_type": "code",
   "source": [
    "df['Hostel'].value_counts()"
   ],
   "metadata": {
    "colab": {
     "base_uri": "https://localhost:8080/"
    },
    "id": "VKAIqNTdbVJ7",
    "executionInfo": {
     "status": "ok",
     "timestamp": 1665380748071,
     "user_tz": -300,
     "elapsed": 265,
     "user": {
      "displayName": "Артём Шевляков",
      "userId": "05637357451040981141"
     }
    },
    "outputId": "412b4b49-e232-46ea-d299-ce52d4ddf4cb"
   },
   "execution_count": 30,
   "outputs": [
    {
     "data": {
      "text/plain": "нет    173\nда      13\nName: Hostel, dtype: int64"
     },
     "execution_count": 30,
     "metadata": {},
     "output_type": "execute_result"
    }
   ]
  },
  {
   "cell_type": "code",
   "source": [
    "dog_lovers=df[df['Animal']=='Собак']['Floor number']\n",
    "dog_lovers.value_counts()/len(dog_lovers)"
   ],
   "metadata": {
    "colab": {
     "base_uri": "https://localhost:8080/"
    },
    "id": "j9vkbsZLfw78",
    "executionInfo": {
     "status": "ok",
     "timestamp": 1665381979360,
     "user_tz": -300,
     "elapsed": 792,
     "user": {
      "displayName": "Артём Шевляков",
      "userId": "05637357451040981141"
     }
    },
    "outputId": "68a5f304-ea2b-4322-b704-5375f9f564a6"
   },
   "execution_count": 31,
   "outputs": [
    {
     "data": {
      "text/plain": "4     0.200000\n1     0.116667\n5     0.100000\n2     0.083333\n6     0.083333\n7     0.066667\n9     0.050000\n3     0.050000\n11    0.050000\n10    0.033333\n12    0.033333\n8     0.033333\n14    0.033333\n16    0.016667\n17    0.016667\n15    0.016667\n13    0.016667\nName: Floor number, dtype: float64"
     },
     "execution_count": 31,
     "metadata": {},
     "output_type": "execute_result"
    }
   ]
  },
  {
   "cell_type": "code",
   "source": [
    "df_cut=df[['']]"
   ],
   "metadata": {
    "id": "P_dYi316vbcJ"
   },
   "execution_count": 32,
   "outputs": [
    {
     "ename": "KeyError",
     "evalue": "\"None of [Index([''], dtype='object')] are in the [columns]\"",
     "output_type": "error",
     "traceback": [
      "\u001B[1;31m---------------------------------------------------------------------------\u001B[0m",
      "\u001B[1;31mKeyError\u001B[0m                                  Traceback (most recent call last)",
      "Cell \u001B[1;32mIn [32], line 1\u001B[0m\n\u001B[1;32m----> 1\u001B[0m df_cut\u001B[38;5;241m=\u001B[39m\u001B[43mdf\u001B[49m\u001B[43m[\u001B[49m\u001B[43m[\u001B[49m\u001B[38;5;124;43m'\u001B[39;49m\u001B[38;5;124;43m'\u001B[39;49m\u001B[43m]\u001B[49m\u001B[43m]\u001B[49m\n",
      "File \u001B[1;32m~\\AppData\\Local\\Programs\\Python\\Python310\\lib\\site-packages\\pandas\\core\\frame.py:3810\u001B[0m, in \u001B[0;36mDataFrame.__getitem__\u001B[1;34m(self, key)\u001B[0m\n\u001B[0;32m   3808\u001B[0m     \u001B[38;5;28;01mif\u001B[39;00m is_iterator(key):\n\u001B[0;32m   3809\u001B[0m         key \u001B[38;5;241m=\u001B[39m \u001B[38;5;28mlist\u001B[39m(key)\n\u001B[1;32m-> 3810\u001B[0m     indexer \u001B[38;5;241m=\u001B[39m \u001B[38;5;28;43mself\u001B[39;49m\u001B[38;5;241;43m.\u001B[39;49m\u001B[43mcolumns\u001B[49m\u001B[38;5;241;43m.\u001B[39;49m\u001B[43m_get_indexer_strict\u001B[49m\u001B[43m(\u001B[49m\u001B[43mkey\u001B[49m\u001B[43m,\u001B[49m\u001B[43m \u001B[49m\u001B[38;5;124;43m\"\u001B[39;49m\u001B[38;5;124;43mcolumns\u001B[39;49m\u001B[38;5;124;43m\"\u001B[39;49m\u001B[43m)\u001B[49m[\u001B[38;5;241m1\u001B[39m]\n\u001B[0;32m   3812\u001B[0m \u001B[38;5;66;03m# take() does not accept boolean indexers\u001B[39;00m\n\u001B[0;32m   3813\u001B[0m \u001B[38;5;28;01mif\u001B[39;00m \u001B[38;5;28mgetattr\u001B[39m(indexer, \u001B[38;5;124m\"\u001B[39m\u001B[38;5;124mdtype\u001B[39m\u001B[38;5;124m\"\u001B[39m, \u001B[38;5;28;01mNone\u001B[39;00m) \u001B[38;5;241m==\u001B[39m \u001B[38;5;28mbool\u001B[39m:\n",
      "File \u001B[1;32m~\\AppData\\Local\\Programs\\Python\\Python310\\lib\\site-packages\\pandas\\core\\indexes\\base.py:6111\u001B[0m, in \u001B[0;36mIndex._get_indexer_strict\u001B[1;34m(self, key, axis_name)\u001B[0m\n\u001B[0;32m   6108\u001B[0m \u001B[38;5;28;01melse\u001B[39;00m:\n\u001B[0;32m   6109\u001B[0m     keyarr, indexer, new_indexer \u001B[38;5;241m=\u001B[39m \u001B[38;5;28mself\u001B[39m\u001B[38;5;241m.\u001B[39m_reindex_non_unique(keyarr)\n\u001B[1;32m-> 6111\u001B[0m \u001B[38;5;28;43mself\u001B[39;49m\u001B[38;5;241;43m.\u001B[39;49m\u001B[43m_raise_if_missing\u001B[49m\u001B[43m(\u001B[49m\u001B[43mkeyarr\u001B[49m\u001B[43m,\u001B[49m\u001B[43m \u001B[49m\u001B[43mindexer\u001B[49m\u001B[43m,\u001B[49m\u001B[43m \u001B[49m\u001B[43maxis_name\u001B[49m\u001B[43m)\u001B[49m\n\u001B[0;32m   6113\u001B[0m keyarr \u001B[38;5;241m=\u001B[39m \u001B[38;5;28mself\u001B[39m\u001B[38;5;241m.\u001B[39mtake(indexer)\n\u001B[0;32m   6114\u001B[0m \u001B[38;5;28;01mif\u001B[39;00m \u001B[38;5;28misinstance\u001B[39m(key, Index):\n\u001B[0;32m   6115\u001B[0m     \u001B[38;5;66;03m# GH 42790 - Preserve name from an Index\u001B[39;00m\n",
      "File \u001B[1;32m~\\AppData\\Local\\Programs\\Python\\Python310\\lib\\site-packages\\pandas\\core\\indexes\\base.py:6171\u001B[0m, in \u001B[0;36mIndex._raise_if_missing\u001B[1;34m(self, key, indexer, axis_name)\u001B[0m\n\u001B[0;32m   6169\u001B[0m     \u001B[38;5;28;01mif\u001B[39;00m use_interval_msg:\n\u001B[0;32m   6170\u001B[0m         key \u001B[38;5;241m=\u001B[39m \u001B[38;5;28mlist\u001B[39m(key)\n\u001B[1;32m-> 6171\u001B[0m     \u001B[38;5;28;01mraise\u001B[39;00m \u001B[38;5;167;01mKeyError\u001B[39;00m(\u001B[38;5;124mf\u001B[39m\u001B[38;5;124m\"\u001B[39m\u001B[38;5;124mNone of [\u001B[39m\u001B[38;5;132;01m{\u001B[39;00mkey\u001B[38;5;132;01m}\u001B[39;00m\u001B[38;5;124m] are in the [\u001B[39m\u001B[38;5;132;01m{\u001B[39;00maxis_name\u001B[38;5;132;01m}\u001B[39;00m\u001B[38;5;124m]\u001B[39m\u001B[38;5;124m\"\u001B[39m)\n\u001B[0;32m   6173\u001B[0m not_found \u001B[38;5;241m=\u001B[39m \u001B[38;5;28mlist\u001B[39m(ensure_index(key)[missing_mask\u001B[38;5;241m.\u001B[39mnonzero()[\u001B[38;5;241m0\u001B[39m]]\u001B[38;5;241m.\u001B[39munique())\n\u001B[0;32m   6174\u001B[0m \u001B[38;5;28;01mraise\u001B[39;00m \u001B[38;5;167;01mKeyError\u001B[39;00m(\u001B[38;5;124mf\u001B[39m\u001B[38;5;124m\"\u001B[39m\u001B[38;5;132;01m{\u001B[39;00mnot_found\u001B[38;5;132;01m}\u001B[39;00m\u001B[38;5;124m not in index\u001B[39m\u001B[38;5;124m\"\u001B[39m)\n",
      "\u001B[1;31mKeyError\u001B[0m: \"None of [Index([''], dtype='object')] are in the [columns]\""
     ]
    }
   ]
  }
 ]
}
